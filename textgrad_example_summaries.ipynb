{
 "cells": [
  {
   "cell_type": "code",
   "execution_count": null,
   "metadata": {},
   "outputs": [],
   "source": [
    "from utils.dataloader import load_temusnews_data_raw\n",
    "import textgrad as tg\n",
    "\n",
    "data = load_temusnews_data_raw()\n",
    "\n",
    "# Split data into train and test\n",
    "split_ratio = 0.7\n",
    "split_point = int(len(data) * split_ratio)\n",
    "train_data = data[:split_point]\n",
    "test_data = data[split_point:]\n",
    "\n",
    "example = data[3]\n",
    "example"
   ]
  },
  {
   "cell_type": "code",
   "execution_count": 2,
   "metadata": {},
   "outputs": [],
   "source": [
    "system_prompt_string = tg.Variable(\n",
    "    \"Summarize the following article: \\n\",\n",
    "    role_description=\"Instruction and style how to summarize the news article. Should be at most 50 words.\",\n",
    "    requires_grad=True,\n",
    ")\n",
    "\n",
    "tg.set_backward_engine(\"gpt-4o\", override=True)\n",
    "model = tg.BlackboxLLM(\"gpt-4o\", system_prompt=system_prompt_string)\n",
    "losses_list = []\n",
    "\n",
    "optimizer = tg.TGD(parameters=[system_prompt_string])"
   ]
  },
  {
   "cell_type": "code",
   "execution_count": null,
   "metadata": {},
   "outputs": [],
   "source": [
    "def train_single(data, system_prompt_string, optimizer, model, losses_list, n_epochs=1):\n",
    "    for k in range(n_epochs):\n",
    "        for i, example in enumerate(data):\n",
    "            news_string = tg.Variable(\n",
    "                example[\"full_text\"],\n",
    "                role_description=\"String containing company monthly news that we want to summarize\",\n",
    "                requires_grad=False,\n",
    "            )\n",
    "\n",
    "            answer = model(news_string)\n",
    "            answer.set_role_description(\n",
    "                \"A summary of the news article by the director of the company\"\n",
    "            )\n",
    "\n",
    "            evaluation_instruction = (\n",
    "                f\"Here's a string containing news: {example['full_text']}. \"\n",
    "                f\"Here is a string containing the summary of the director of the company: {example['short_text']}. \"\n",
    "                \"You should evaluate the summaries to this news article in terms of syntax, style and personality. \"\n",
    "                \"It should be as they were written by the same person.\"\n",
    "            )\n",
    "\n",
    "            loss_fn = tg.TextLoss(evaluation_instruction)\n",
    "            loss = loss_fn(answer)\n",
    "            loss.backward()\n",
    "            optimizer.step()\n",
    "            optimizer.zero_grad()\n",
    "\n",
    "            losses_list.append(loss)\n",
    "\n",
    "            # Print the info in a more visually separated and appealing way\n",
    "            print(\" ========= \")\n",
    "            print(f\"Epoch: {k + 1}, Iteration {i + 1}\")\n",
    "            print(\" --------- \")\n",
    "            print(f\"Loss: {loss}\")\n",
    "            print(\" --------- \")\n",
    "            print(f\"Prompt: {system_prompt_string}\")\n",
    "            print(\" ========= \")\n",
    "\n",
    "\n",
    "train_single(\n",
    "    train_data, system_prompt_string, optimizer, model, losses_list, n_epochs=3\n",
    ")"
   ]
  },
  {
   "cell_type": "code",
   "execution_count": null,
   "metadata": {},
   "outputs": [],
   "source": [
    "# Make an evaluation of the model for each example, showing the original text, the summary and the generated summary\n",
    "def eval_model(model, data):\n",
    "    for i, example in enumerate(data):\n",
    "        news_string = example[\"full_text\"]\n",
    "        summary_string = example[\"short_text\"]\n",
    "\n",
    "        V_news_string = tg.Variable(\n",
    "            news_string,\n",
    "            role_description=\"String containing some news that we want to summarize\",\n",
    "            requires_grad=False,\n",
    "        )\n",
    "\n",
    "        answer = model(V_news_string)\n",
    "\n",
    "        print(\"================================\")\n",
    "        print(f\"Example {i + 1}\")\n",
    "        print(f\"News: {news_string}\")\n",
    "        print(\"--------------------------------\")\n",
    "        print(f\"Summary: {summary_string}\")\n",
    "        print(\"--------------------------------\")\n",
    "        print(f\"Generated summary: {answer.value}\")\n",
    "        print(\"--------------------------------\")\n",
    "        print(\"\\n\")\n",
    "\n",
    "\n",
    "eval_model(model, train_data)"
   ]
  },
  {
   "cell_type": "code",
   "execution_count": null,
   "metadata": {},
   "outputs": [],
   "source": [
    "eval_model(model, test_data)"
   ]
  }
 ],
 "metadata": {
  "kernelspec": {
   "display_name": ".venv",
   "language": "python",
   "name": "python3"
  },
  "language_info": {
   "codemirror_mode": {
    "name": "ipython",
    "version": 3
   },
   "file_extension": ".py",
   "mimetype": "text/x-python",
   "name": "python",
   "nbconvert_exporter": "python",
   "pygments_lexer": "ipython3",
   "version": "3.11.9"
  }
 },
 "nbformat": 4,
 "nbformat_minor": 2
}
